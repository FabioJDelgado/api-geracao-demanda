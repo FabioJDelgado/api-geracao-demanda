{
  "cells": [
    {
      "cell_type": "markdown",
      "metadata": {},
      "source": [
        "# Preço"
      ]
    },
    {
      "cell_type": "code",
      "execution_count": null,
      "metadata": {},
      "outputs": [],
      "source": [
        "def calcular_nota(preco, lista_precos, fator_penalidade):\n",
        "    soma_precos = sum(lista_precos)\n",
        "    menor_preco = min(lista_precos)\n",
        "    maior_preco = max(lista_precos)\n",
        "\n",
        "    diferenca_maior_menor = 1 if (maior_preco - menor_preco) == 0 else maior_preco - menor_preco\n",
        "\n",
        "    nota = (10 - ((preco / soma_precos) * 10)) - (((preco - menor_preco) / diferenca_maior_menor) * fator_penalidade)\n",
        "\n",
        "    return nota"
      ]
    },
    {
      "cell_type": "code",
      "execution_count": null,
      "metadata": {
        "colab": {
          "base_uri": "https://localhost:8080/"
        },
        "id": "cpIARAK5zgqV",
        "outputId": "cf32d0ec-44c8-41ce-b8d5-14215c7a2840"
      },
      "outputs": [
        {
          "name": "stdout",
          "output_type": "stream",
          "text": [
            "Preço: 13.99, Nota: 4.36\n",
            "Preço: 11.99, Nota: 7.74\n",
            "Preço: 12.99, Nota: 6.05\n",
            "Preço: 13.99, Nota: 4.36\n"
          ]
        }
      ],
      "source": [
        "lista_precos = [13.99, 11.99, 12.99, 13.99]\n",
        "\n",
        "fator_penalidade = 3\n",
        "\n",
        "for preco in lista_precos:\n",
        "    nota = calcular_nota(preco, lista_precos, fator_penalidade)\n",
        "    print(f\"Preço: {preco}, Nota: {nota:.2f}\")"
      ]
    },
    {
      "cell_type": "markdown",
      "metadata": {
        "id": "Nb5_ccdf3NMI"
      },
      "source": [
        "# Propaganda 1"
      ]
    },
    {
      "cell_type": "code",
      "execution_count": null,
      "metadata": {
        "id": "oi_dyiPF3NMV"
      },
      "outputs": [],
      "source": [
        "def calcular_nota(investimento, lista_investimentos, fator_penalidade):\n",
        "    soma_investimentos = sum(lista_investimentos)\n",
        "    menor_investimento = min(lista_investimentos)\n",
        "    maior_investimento = max(lista_investimentos)\n",
        "\n",
        "    nota = ((investimento / soma_investimentos) * 10) + (((investimento - maior_investimento) / (maior_investimento - menor_investimento)) * fator_penalidade)\n",
        "\n",
        "    return nota"
      ]
    },
    {
      "cell_type": "code",
      "execution_count": null,
      "metadata": {
        "colab": {
          "base_uri": "https://localhost:8080/"
        },
        "id": "Bsavp6rk3NMV",
        "outputId": "7c26dd89-1f49-45e7-8749-fb61cc92e2bc"
      },
      "outputs": [
        {
          "name": "stdout",
          "output_type": "stream",
          "text": [
            "Investimento em Propaganda: 1052.19, Nota: 2.54\n",
            "Investimento em Propaganda: 1045.99, Nota: 2.50\n",
            "Investimento em Propaganda: 1030.39, Nota: 2.41\n",
            "Investimento em Propaganda: 1021.99, Nota: 2.36\n"
          ]
        }
      ],
      "source": [
        "# Taxas de impacto:\n",
        "#   -> 0.1 - impacto mínimo\n",
        "#   -> 0.2 - impacto baixo\n",
        "#   -> 0.3 - impacto moderado\n",
        "#   -> 0.4 - impacto alto\n",
        "#   -> 0.5 - impacto muito alto\n",
        "\n",
        "# Exemplo de uso\n",
        "lista_investimentos = [1052.19, 1045.99, 1030.39, 1021.99]\n",
        "\n",
        "fator_penalidade = 0.1\n",
        "\n",
        "for investimento in lista_investimentos:\n",
        "    nota = calcular_nota(investimento, lista_investimentos, fator_penalidade)\n",
        "    print(f\"Investimento em Propaganda: {investimento}, Nota: {nota:.2f}\")"
      ]
    },
    {
      "cell_type": "markdown",
      "metadata": {
        "id": "QRWvTLeFz-Hk"
      },
      "source": [
        "# Propaganda 2"
      ]
    },
    {
      "cell_type": "code",
      "execution_count": 1,
      "metadata": {
        "id": "rcZmk0Hz0Af3"
      },
      "outputs": [],
      "source": [
        "def calcular_notas(investimentos, valor_minimo, proporcao_crescimento):\n",
        "\n",
        "    # Cálculo das notas\n",
        "    notas = []  # Inicializa uma lista vazia para armazenar as notas\n",
        "    max_investimento = max(investimentos)  # Encontra o maior investimento na lista\n",
        "\n",
        "    for investimento in investimentos:  # Itera sobre cada valor de investimento na lista\n",
        "        if investimento < valor_minimo:  # Verifica se o investimento é menor que o valor mínimo\n",
        "            nota = 0  # Atribui nota 0 se o investimento for menor que o valor mínimo\n",
        "        else:\n",
        "            # Calcula a nota para investimentos iguais ou superiores ao valor mínimo\n",
        "            # A fórmula considera a diferença do investimento em relação ao valor mínimo\n",
        "            # dividido pela proporção de crescimento vezes o valor mínimo\n",
        "            nota = 1 + ((investimento - valor_minimo) / (proporcao_crescimento * valor_minimo))\n",
        "\n",
        "            # Garante que a nota final esteja entre 0 e 10\n",
        "            nota = max(0, min(10, nota))\n",
        "\n",
        "        # Adiciona a nota calculada à lista de notas\n",
        "        notas.append((investimento, nota))\n",
        "\n",
        "    # Retorna a lista de notas calculadas\n",
        "    return notas"
      ]
    },
    {
      "cell_type": "code",
      "execution_count": 2,
      "metadata": {
        "colab": {
          "base_uri": "https://localhost:8080/"
        },
        "id": "4dnolxeM0D1s",
        "outputId": "5aef58a2-c3d4-47de-e4e6-5327f46a5e82"
      },
      "outputs": [
        {
          "name": "stdout",
          "output_type": "stream",
          "text": [
            "[(500, 0), (1500, 1.25), (2500, 1.75), (3000, 2.0), (4000, 2.5)]\n"
          ]
        }
      ],
      "source": [
        "# Lista de valores investidos em propaganda internet\n",
        "investimentos = [500, 1500, 2500, 3000, 4000]\n",
        "\n",
        "# Valor mínimo de investimento para obter retorno mínimo de demanda, representando nota 1\n",
        "valor_minimo = 1000\n",
        "\n",
        "# Proporção de crescimento do valor mínimo para determinar a escala das notas\n",
        "proporcao_crescimento = 2\n",
        "\n",
        "# Chama a função para calcular as notas e imprime o resultado\n",
        "notas = calcular_notas(investimentos, valor_minimo, proporcao_crescimento)\n",
        "print(notas)"
      ]
    },
    {
      "cell_type": "markdown",
      "metadata": {
        "id": "_uGda6BODdm4"
      },
      "source": [
        "# Capacidade Instalada"
      ]
    },
    {
      "cell_type": "code",
      "execution_count": 1,
      "metadata": {
        "id": "bVe_HSs4DkPH"
      },
      "outputs": [],
      "source": [
        "def calcular_pontos(espaco, atendentes, caixas, pesos):\n",
        "    return ((espaco * pesos[0]) + (atendentes * pesos[1]) + (caixas * pesos[2])) / (sum(pesos))"
      ]
    },
    {
      "cell_type": "code",
      "execution_count": 2,
      "metadata": {
        "id": "7q0iiLd-DnnH"
      },
      "outputs": [],
      "source": [
        "def calcular_nota(ci, soma_ci, menor_ci, maior_ci):\n",
        "    diferenca_maior_menor = 1 if (maior_ci - menor_ci) == 0 else maior_ci - menor_ci\n",
        "\n",
        "    nota = ((ci / soma_ci) * 10) - (((ci - maior_ci) / diferenca_maior_menor) * -1)\n",
        "\n",
        "    if nota < 0:\n",
        "        nota = 0\n",
        "\n",
        "    return nota"
      ]
    },
    {
      "cell_type": "code",
      "execution_count": 3,
      "metadata": {
        "colab": {
          "base_uri": "https://localhost:8080/"
        },
        "id": "GMuAr7uBDpJG",
        "outputId": "461b0b81-dd64-4fd6-9111-16a5dd356478"
      },
      "outputs": [
        {
          "name": "stdout",
          "output_type": "stream",
          "text": [
            "jogada1 43.0\n",
            "jogada2 44.0\n",
            "jogada3 45.0\n",
            "\n",
            "132.0\n",
            "43.0\n",
            "45.0\n",
            "\n",
            "43.0\n",
            "jogada1 2.2575757575757573\n",
            "44.0\n",
            "jogada2 2.833333333333333\n",
            "45.0\n",
            "jogada3 3.4090909090909087\n"
          ]
        }
      ],
      "source": [
        "# Correlação positiva e negativa\n",
        "\n",
        "# Parâmetros de capacidade instalada\n",
        "capacidade = {\n",
        "    'jogada1': {'E': 198, 'A': 18, 'C': 8},\n",
        "    'jogada2': {'E': 199, 'A': 19, 'C': 9},\n",
        "    'jogada3': {'E': 200, 'A': 20, 'C': 10}\n",
        "}\n",
        "\n",
        "# Pesos recebidos como entrada\n",
        "pesos = [1, 2, 3]\n",
        "\n",
        "# Calcular as notas brutas\n",
        "cis = []\n",
        "for nivel in capacidade:\n",
        "    calc_ponto = calcular_pontos(capacidade[nivel]['E'], capacidade[nivel]['A'], capacidade[nivel]['C'], pesos)\n",
        "    print(nivel, calc_ponto)\n",
        "    cis.append((nivel, calc_ponto))\n",
        "\n",
        "print()\n",
        "\n",
        "soma_ci = 0\n",
        "menor_ci = 0\n",
        "maior_ci = 0\n",
        "\n",
        "for ci in cis:\n",
        "    soma_ci = soma_ci + ci[1]\n",
        "\n",
        "    if menor_ci == 0:\n",
        "        menor_ci = ci[1]\n",
        "    elif menor_ci > ci[1]:\n",
        "        menor_ci = ci[1]\n",
        "\n",
        "    if maior_ci == 0:\n",
        "        maior_ci = ci[1]\n",
        "    elif maior_ci < ci[1]:\n",
        "        maior_ci = ci[1]\n",
        "\n",
        "print(soma_ci)\n",
        "print(menor_ci)\n",
        "print(maior_ci)\n",
        "\n",
        "print()\n",
        "\n",
        "for ci in cis:\n",
        "    print(ci[1])\n",
        "    nota = calcular_nota(ci[1], soma_ci, menor_ci, maior_ci)\n",
        "    print(ci[0], nota)"
      ]
    },
    {
      "cell_type": "markdown",
      "metadata": {
        "id": "4jw2VTuzMe7g"
      },
      "source": [
        "# Qualidade"
      ]
    },
    {
      "cell_type": "code",
      "execution_count": 1,
      "metadata": {},
      "outputs": [],
      "source": [
        "import math"
      ]
    },
    {
      "cell_type": "code",
      "execution_count": 2,
      "metadata": {},
      "outputs": [],
      "source": [
        "def calcPorcentagem(jogada):\n",
        "    totalProds = sum(jogada[1])\n",
        "    ret = []\n",
        "    for valor in jogada[1]:\n",
        "        porcentagem = valor / totalProds\n",
        "        ret.append(porcentagem)\n",
        "    return jogada[0], jogada[1], ret"
      ]
    },
    {
      "cell_type": "code",
      "execution_count": 3,
      "metadata": {},
      "outputs": [],
      "source": [
        "def distribuiProdutos(jogada, produtosDestinados):\n",
        "    totalProds = sum(jogada[1])\n",
        "    ret = []\n",
        "    for valor in jogada[2]:\n",
        "        if totalProds < produtosDestinados:\n",
        "            produtosDestinados = totalProds\n",
        "        porcProutos = produtosDestinados * valor\n",
        "        ret.append(math.floor(porcProutos))\n",
        "    return jogada[0], jogada[1], jogada[2], ret"
      ]
    },
    {
      "cell_type": "code",
      "execution_count": 4,
      "metadata": {},
      "outputs": [],
      "source": [
        "def aplicarTaxaDevolucao(jogada, taxaDevolucao):\n",
        "    contTaxa = 0\n",
        "    ret = []\n",
        "    for valor in jogada[3]:\n",
        "        valorDecrescimo = valor / taxaDevolucao[contTaxa]\n",
        "        recalc = valor - valorDecrescimo\n",
        "        ret.append(math.ceil(recalc))\n",
        "        contTaxa = contTaxa + 1\n",
        "    return jogada[0], jogada[1], jogada[2], jogada[3], ret"
      ]
    },
    {
      "cell_type": "code",
      "execution_count": 5,
      "metadata": {},
      "outputs": [],
      "source": [
        "def somaDemanda(jogada):\n",
        "    ret = 0\n",
        "    for valor in jogada[4]:\n",
        "        ret = ret + valor\n",
        "    return jogada[0], jogada[1], jogada[2], jogada[3], jogada[4], ret"
      ]
    },
    {
      "cell_type": "code",
      "execution_count": 6,
      "metadata": {},
      "outputs": [
        {
          "name": "stdout",
          "output_type": "stream",
          "text": [
            "('1', [100, 600, 700], [0.07142857142857142, 0.42857142857142855, 0.5], [71, 428, 500], [67, 411, 486], 964)\n",
            "('2', [150, 500, 600], [0.12, 0.4, 0.48], [108, 360, 432], [101, 346, 420], 867)\n",
            "('3', [125, 700, 500], [0.09433962264150944, 0.5283018867924528, 0.37735849056603776], [108, 607, 433], [101, 583, 421], 1105)\n"
          ]
        }
      ],
      "source": [
        "jogadas = [\n",
        "    ('1', [100, 600, 700]),\n",
        "    ('2', [150, 500, 600]),\n",
        "    ('3', [125, 700, 500]),\n",
        "]\n",
        "\n",
        "taxaDevolucao = [15, 25, 35]\n",
        "\n",
        "produtosDestinados = [1000, 900, 1150]\n",
        "\n",
        "controle = 0\n",
        "\n",
        "\n",
        "jogadasAlterada = []\n",
        "\n",
        "for jogada in jogadas:\n",
        "    jogadasAlterada.append(calcPorcentagem(jogada))\n",
        "# print(jogadasAlterada)\n",
        "\n",
        "\n",
        "jogadasAlterada1 = []\n",
        "\n",
        "for jogada in jogadasAlterada:\n",
        "    jogadasAlterada1.append(distribuiProdutos(jogada, produtosDestinados[controle]))\n",
        "    controle = controle + 1\n",
        "# print(jogadasAlterada1)\n",
        "\n",
        "\n",
        "jogadasAlterada2 = []\n",
        "\n",
        "for jogada in jogadasAlterada1:\n",
        "    jogadasAlterada2.append(aplicarTaxaDevolucao(jogada, taxaDevolucao))\n",
        "# print(jogadasAlterada2)\n",
        "\n",
        "\n",
        "jogadasFinal = []\n",
        "\n",
        "for jogada in jogadasAlterada2:\n",
        "    jogadasFinal.append(somaDemanda(jogada))\n",
        "\n",
        "\n",
        "for jogada in jogadasFinal:\n",
        "    print(jogada)"
      ]
    },
    {
      "cell_type": "markdown",
      "metadata": {
        "id": "8mwbFerPo5La"
      },
      "source": [
        "# Taxa Básica de Juros"
      ]
    },
    {
      "cell_type": "code",
      "execution_count": 14,
      "metadata": {
        "colab": {
          "base_uri": "https://localhost:8080/"
        },
        "id": "Zd7rqXbmpAvy",
        "outputId": "416b1d22-4c94-4204-fb45-068c66b04fe4"
      },
      "outputs": [
        {
          "name": "stdout",
          "output_type": "stream",
          "text": [
            "0.1\n",
            "0.11\n",
            "0.009999999999999995\n",
            "0.0\n",
            "0\n"
          ]
        }
      ],
      "source": [
        "import math\n",
        "\n",
        "# trocar nome da variável para fatia do mercado\n",
        "intencao_compra = 10000\n",
        "\n",
        "# a cada 1% de variação na selic, equivale a quantos x% no valor da  demanda\n",
        "# deve ser sempre 0 a 1\n",
        "fator_ajuste = 1\n",
        "\n",
        "taxa_basica_juros = [10, 11]\n",
        "\n",
        "taxa_basica_juros_ru = []\n",
        "\n",
        "for taxa in taxa_basica_juros:\n",
        "  taxa_basica_juros_ru.append(taxa/100)\n",
        "\n",
        "taxa_anterior = taxa_basica_juros_ru[0]\n",
        "print(taxa_anterior)\n",
        "taxa_atual = taxa_basica_juros_ru[1]\n",
        "print(taxa_atual)\n",
        "variacao_taxas = taxa_atual - taxa_anterior\n",
        "print(variacao_taxas)\n",
        "\n",
        "porcentagem = 1\n",
        "if variacao_taxas > 0:\n",
        "  porcentagem = (1 + variacao_taxas) * (1 - fator_ajuste)\n",
        "elif variacao_taxas < 0:\n",
        "  porcentagem = (1 + variacao_taxas) / (1 - fator_ajuste)\n",
        "print(porcentagem)\n",
        "\n",
        "intencao_compra = math.ceil(intencao_compra * porcentagem)\n",
        "print(intencao_compra)\n",
        "\n",
        "# intencao_compra = math.ceil(intencao_compra * (1 - (fator_ajuste * variacao_taxas)))\n",
        "# print(intencao_compra)\n",
        "\n",
        "# print(\"rodada \" + str(i) + \": \" + str(intencaoCompra))"
      ]
    },
    {
      "cell_type": "markdown",
      "metadata": {},
      "source": [
        "# Qualidade"
      ]
    },
    {
      "cell_type": "code",
      "execution_count": 3,
      "metadata": {},
      "outputs": [
        {
          "name": "stdout",
          "output_type": "stream",
          "text": [
            "('1', [100, 600, 700], [0.07142857142857142, 0.42857142857142855, 0.5], [71, 428, 500], [67, 411, 486], 964)\n",
            "('2', [150, 500, 600], [0.12, 0.4, 0.48], [108, 360, 432], [101, 346, 420], 867)\n",
            "('3', [125, 700, 500], [0.09433962264150944, 0.5283018867924528, 0.37735849056603776], [108, 607, 433], [101, 583, 421], 1105)\n"
          ]
        }
      ],
      "source": [
        "import math\n",
        "\n",
        "def calcPorcentagem(jogada):\n",
        "    totalProds = sum(jogada[1])\n",
        "    ret = []\n",
        "    for valor in jogada[1]:\n",
        "        porcentagem = valor / totalProds\n",
        "        ret.append(porcentagem)\n",
        "    return jogada[0], jogada[1], ret\n",
        "    \n",
        "    \n",
        "def distribuiProdutos(jogada, produtosDestinados):\n",
        "    totalProds = sum(jogada[1])\n",
        "    ret = []\n",
        "    for valor in jogada[2]:\n",
        "        if totalProds < produtosDestinados:\n",
        "            produtosDestinados = totalProds\n",
        "        porcProutos = produtosDestinados * valor\n",
        "        ret.append(math.floor(porcProutos))\n",
        "    return jogada[0], jogada[1], jogada[2], ret\n",
        "    \n",
        "    \n",
        "def aplicarTaxaDevolucao(jogada, taxaDevolucao):\n",
        "    contTaxa = 0\n",
        "    ret = []\n",
        "    for valor in jogada[3]:\n",
        "        valorDecrescimo = valor / taxaDevolucao[contTaxa]\n",
        "        recalc = valor - valorDecrescimo\n",
        "        ret.append(math.ceil(recalc))\n",
        "        contTaxa = contTaxa + 1\n",
        "    return jogada[0], jogada[1], jogada[2], jogada[3], ret\n",
        "    \n",
        "\n",
        "def somaDemanda(jogada):\n",
        "    ret = 0\n",
        "    for valor in jogada[4]:\n",
        "        ret = ret + valor\n",
        "    return jogada[0], jogada[1], jogada[2], jogada[3], jogada[4], ret\n",
        "\n",
        "\n",
        "\n",
        "jogadas = [\n",
        "    ('1', [100, 600, 700]), \n",
        "    ('2', [150, 500, 600]), \n",
        "    ('3', [125, 700, 500]), \n",
        "]\n",
        "\n",
        "taxaDevolucao = [15, 25, 35]\n",
        "\n",
        "produtosDestinados = [1000, 900, 1150]\n",
        "\n",
        "controle = 0\n",
        "\n",
        "\n",
        "jogadasAlterada = []\n",
        "\n",
        "for jogada in jogadas:\n",
        "    jogadasAlterada.append(calcPorcentagem(jogada))\n",
        "# print(jogadasAlterada)\n",
        "\n",
        "\n",
        "jogadasAlterada1 = []\n",
        "\n",
        "for jogada in jogadasAlterada:\n",
        "    jogadasAlterada1.append(distribuiProdutos(jogada, produtosDestinados[controle]))\n",
        "    controle = controle + 1\n",
        "# print(jogadasAlterada1)\n",
        "\n",
        "\n",
        "jogadasAlterada2 = []\n",
        "\n",
        "for jogada in jogadasAlterada1:\n",
        "    jogadasAlterada2.append(aplicarTaxaDevolucao(jogada, taxaDevolucao))\n",
        "# print(jogadasAlterada2)\n",
        "\n",
        "\n",
        "jogadasFinal = []\n",
        "\n",
        "for jogada in jogadasAlterada2:\n",
        "    jogadasFinal.append(somaDemanda(jogada))\n",
        "\n",
        "\n",
        "for jogada in jogadasFinal:\n",
        "    print(jogada)"
      ]
    }
  ],
  "metadata": {
    "colab": {
      "collapsed_sections": [
        "ChLHnXIkzs0N",
        "Nb5_ccdf3NMI",
        "QRWvTLeFz-Hk",
        "_uGda6BODdm4",
        "4jw2VTuzMe7g"
      ],
      "provenance": []
    },
    "kernelspec": {
      "display_name": "Python 3",
      "name": "python3"
    },
    "language_info": {
      "codemirror_mode": {
        "name": "ipython",
        "version": 3
      },
      "file_extension": ".py",
      "mimetype": "text/x-python",
      "name": "python",
      "nbconvert_exporter": "python",
      "pygments_lexer": "ipython3",
      "version": "3.11.4"
    }
  },
  "nbformat": 4,
  "nbformat_minor": 0
}
