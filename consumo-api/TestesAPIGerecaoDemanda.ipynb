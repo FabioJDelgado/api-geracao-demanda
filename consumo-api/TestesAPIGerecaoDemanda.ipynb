{
 "cells": [
  {
   "cell_type": "code",
   "execution_count": 27,
   "metadata": {},
   "outputs": [],
   "source": [
    "import json\n",
    "\n",
    "# Converte um dicionário em uma string JSON\n",
    "def to_json(dados):\n",
    "    return json.dumps(dados, ensure_ascii=False)"
   ]
  },
  {
   "cell_type": "code",
   "execution_count": 28,
   "metadata": {},
   "outputs": [],
   "source": [
    "# Criar JSON Cadastro Partida\n",
    "def criar_json_cadastro_partida(dado):\n",
    "    json_final = {\n",
    "        \"quantidadeRodadas\": int(dado[\"quantidadeRodadas\"]),\n",
    "        \"fatiaMercado\": int(dado[\"fatiaMercado\"]),\n",
    "        \"variavelMicroeconomica\": {\n",
    "            \"preco\": int(dado[\"preco\"]),\n",
    "            \"fatorPenalidadePreco\": int(dado[\"fatorPenalidadePreco\"]),\n",
    "            \"propaganda\": int(dado[\"propaganda\"]),\n",
    "            \"porcentagemPropagandaRadio\": int(dado[\"porcentagemPropagandaRadio\"]),\n",
    "            \"valorMinimoPropagandaRadio\": float(dado[\"valorMinimoPropagandaRadio\"]),\n",
    "            \"proporcaoCrescimentoPropagandaRadio\": float(dado[\"proporcaoCrescimentoPropagandaRadio\"]),\n",
    "            \"porcentagemPropagandaJornal\": int(dado[\"porcentagemPropagandaJornal\"]),\n",
    "            \"valorMinimoPropagandaJornal\": float(dado[\"valorMinimoPropagandaJornal\"]),\n",
    "            \"proporcaoCrescimentoPropagandaJornal\": float(dado[\"proporcaoCrescimentoPropagandaJornal\"]),\n",
    "            \"porcentagemPropagandaTV\": int(dado[\"porcentagemPropagandaTV\"]),\n",
    "            \"valorMinimoPropagandaTV\": float(dado[\"valorMinimoPropagandaTV\"]),\n",
    "            \"proporcaoCrescimentoPropagandaTV\": float(dado[\"proporcaoCrescimentoPropagandaTV\"]),\n",
    "            \"porcentagemPropagandaInternet\": int(dado[\"porcentagemPropagandaInternet\"]),\n",
    "            \"valorMinimoPropagandaInternet\": float(dado[\"valorMinimoPropagandaInternet\"]),\n",
    "            \"proporcaoCrescimentoPropagandaInternet\": float(dado[\"proporcaoCrescimentoPropagandaInternet\"]),\n",
    "            \"confiabilidadeProduto1\": int(dado[\"confiabilidadeProduto1\"]),\n",
    "            \"confiabilidadeProduto2\": int(dado[\"confiabilidadeProduto2\"]),\n",
    "            \"confiabilidadeProduto3\": int(dado[\"confiabilidadeProduto3\"]),\n",
    "            \"capacidadeInstalada\": int(dado[\"capacidadeInstalada\"]),\n",
    "            \"tamanhoEstabelecimentoPequeno\": int(dado[\"tamanhoEstabelecimentoPequeno\"]),\n",
    "            \"pesoTamanhoEstabelecimentoPequeno\": int(dado[\"pesoTamanhoEstabelecimentoPequeno\"]),\n",
    "            \"qtdMaxCaixasEstabelecimentoPequeno\": int(dado[\"qtdMaxCaixasEstabelecimentoPequeno\"]),\n",
    "            \"tamanhoEstabelecimentoMedio\": int(dado[\"tamanhoEstabelecimentoMedio\"]),\n",
    "            \"pesoTamanhoEstabelecimentoMedio\": int(dado[\"pesoTamanhoEstabelecimentoMedio\"]),\n",
    "            \"qtdMaxCaixasEstabelecimentoMedio\": int(dado[\"qtdMaxCaixasEstabelecimentoMedio\"]),\n",
    "            \"tamanhoEstabelecimentoGrande\": int(dado[\"tamanhoEstabelecimentoGrande\"]),\n",
    "            \"pesoTamanhoEstabelecimentoGrande\": int(dado[\"pesoTamanhoEstabelecimentoGrande\"]),\n",
    "            \"qtdMaxCaixasEstabelecimentoGrande\": int(dado[\"qtdMaxCaixasEstabelecimentoGrande\"]),\n",
    "            \"pesoCaixas\": int(dado[\"pesoCaixas\"]),\n",
    "            \"pesoFuncionarios\": int(dado[\"pesoFuncionarios\"])\n",
    "        },\n",
    "        \"variavelMacroeconomica\": {\n",
    "            \"fatorAjuste\": int(dado[\"fatorAjuste\"])\n",
    "        }\n",
    "    }\n",
    "    \n",
    "    return json_final"
   ]
  },
  {
   "cell_type": "code",
   "execution_count": 29,
   "metadata": {},
   "outputs": [],
   "source": [
    "import csv\n",
    "\n",
    "# Função para ler o arquivo CSV e retornar os dados como uma lista de dicionários (JSON-like)\n",
    "def csv_para_json(caminho_csv, qtd_linhas=None, como_lista=True):\n",
    "    # Abrir o arquivo CSV\n",
    "    with open(caminho_csv, mode='r', encoding='utf-8') as csv_file:\n",
    "        # Ler o arquivo CSV usando DictReader\n",
    "        csv_reader = csv.DictReader(csv_file)\n",
    "        \n",
    "        # Converter cada linha do CSV em um dicionário e adicionar a uma lista\n",
    "        dados = []\n",
    "        for i, linha in enumerate(csv_reader):\n",
    "            if qtd_linhas and i >= qtd_linhas:\n",
    "                break\n",
    "            dados.append(linha)\n",
    "    \n",
    "    # Se como_lista for False e a quantidade de linhas for 1, retorna um dicionário em vez de uma lista\n",
    "    if not como_lista and len(dados) == 1:\n",
    "        return dados[0]\n",
    "    \n",
    "    return dados"
   ]
  },
  {
   "cell_type": "code",
   "execution_count": 30,
   "metadata": {},
   "outputs": [],
   "source": [
    "import requests\n",
    "import json\n",
    "\n",
    "# Função para cadastrar uma partida\n",
    "def cadastrar_partida(dados):\n",
    "    url = 'http://localhost:8080/api/partida/cadastrar'\n",
    "    headers = {\n",
    "        'Content-Type': 'application/json'\n",
    "    }\n",
    "    response = requests.post(url, json=dados, headers=headers)\n",
    "    return response"
   ]
  },
  {
   "cell_type": "code",
   "execution_count": 32,
   "metadata": {},
   "outputs": [
    {
     "name": "stdout",
     "output_type": "stream",
     "text": [
      "200\n",
      "{'identificacaoPartida': 'fe3c66c8-d88f-4cfa-bbba-eda83ed496c8'}\n"
     ]
    }
   ],
   "source": [
    "# SE INICIA AQUI\n",
    "\n",
    "# Ler o arquivo CSV para cadastrar partida\n",
    "dadosCadastro = csv_para_json('cad_partida.csv', 1, False)\n",
    "\n",
    "# Convertendo os dados do excel de cadastro para JSON de envio\n",
    "dadosCadastro = criar_json_cadastro_partida(dadosCadastro)\n",
    "\n",
    "# Fazendo cadastro da partida\n",
    "response = cadastrar_partida(dadosCadastro)\n",
    "if response.status_code == 200:\n",
    "    print('Partida cadastrada com sucesso!')\n",
    "\n",
    "    # Continuar cadastro de rodadas\n",
    "    \n",
    "\n",
    "\n",
    "else:\n",
    "    print('Erro ao cadastrar partida!')\n",
    "\n"
   ]
  }
 ],
 "metadata": {
  "kernelspec": {
   "display_name": "Python 3",
   "language": "python",
   "name": "python3"
  },
  "language_info": {
   "codemirror_mode": {
    "name": "ipython",
    "version": 3
   },
   "file_extension": ".py",
   "mimetype": "text/x-python",
   "name": "python",
   "nbconvert_exporter": "python",
   "pygments_lexer": "ipython3",
   "version": "3.11.4"
  }
 },
 "nbformat": 4,
 "nbformat_minor": 2
}
